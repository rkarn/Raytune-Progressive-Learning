{
 "cells": [
  {
   "cell_type": "code",
   "execution_count": 4,
   "metadata": {},
   "outputs": [
    {
     "name": "stdout",
     "output_type": "stream",
     "text": [
      "param_task0.pkl\n",
      "param_task4.pkl\n",
      "param_task1.pkl\n",
      "param_task3.pkl\n",
      "param_task2.pkl\n"
     ]
    }
   ],
   "source": [
    "import pickle\n",
    "import os\n",
    "param = {}\n",
    "for fl in os.listdir():\n",
    "    if fl.endswith('.pkl'):\n",
    "        print(fl)\n",
    "        param[fl] = pickle.load(open(fl, \"rb\"))"
   ]
  },
  {
   "cell_type": "code",
   "execution_count": 12,
   "metadata": {},
   "outputs": [
    {
     "data": {
      "text/plain": [
       "(array([0.1630176 , 0.17661072, 0.17417605, 0.17652033, 0.16961285,\n",
       "        0.17076206, 0.1759087 , 0.17587136, 0.17757365, 0.17616749,\n",
       "        0.17300142, 0.17055723, 0.15816657, 0.17747949, 0.17697449,\n",
       "        0.1679854 , 0.1714304 , 0.1674032 , 0.17241535, 0.17694181,\n",
       "        0.17062427, 0.16669467, 0.16981582, 0.16756521, 0.17692488,\n",
       "        0.17412181, 0.16841666, 0.16971847, 0.17069755, 0.1615612 ,\n",
       "        0.16088301, 0.16692308, 0.17695045, 0.17082289, 0.17338808,\n",
       "        0.17635389, 0.17687324, 0.17755748, 0.17756382, 0.17758816,\n",
       "        0.17724778, 0.16912055, 0.1764267 , 0.16171242, 0.17763808,\n",
       "        0.17358407, 0.17274794, 0.17707206, 0.17144015, 0.17302623,\n",
       "        0.17696992, 0.17647876, 0.17724587, 0.17341982, 0.16693245,\n",
       "        0.16944464, 0.16663618, 0.17007332, 0.17363718, 0.17650035],\n",
       "       dtype=float32), 60)"
      ]
     },
     "execution_count": 12,
     "metadata": {},
     "output_type": "execute_result"
    }
   ],
   "source": [
    "param['param_task0.pkl'][1], len(param['param_task0.pkl'][1])"
   ]
  },
  {
   "cell_type": "code",
   "execution_count": 14,
   "metadata": {},
   "outputs": [
    {
     "data": {
      "text/plain": [
       "(array([0.1630176 , 0.17661072, 0.17417605, 0.17652033, 0.16961285,\n",
       "        0.17076206, 0.1759087 , 0.17587136, 0.17757365, 0.17616749,\n",
       "        0.17300142, 0.17055723, 0.15816657, 0.17747949, 0.17697449,\n",
       "        0.1679854 , 0.1714304 , 0.1674032 , 0.17241535, 0.17694181,\n",
       "        0.17062427, 0.16669467, 0.16981582, 0.16756521, 0.17692488,\n",
       "        0.17412181, 0.16841666, 0.16971847, 0.17069755, 0.1615612 ,\n",
       "        0.16088301, 0.16692308, 0.17695045, 0.17082289, 0.17338808,\n",
       "        0.17635389, 0.17687324, 0.17755748, 0.17756382, 0.17758816,\n",
       "        0.17724778, 0.16912055, 0.1764267 , 0.16171242, 0.17763808,\n",
       "        0.17358407, 0.17274794, 0.17707206, 0.17144015, 0.17302623,\n",
       "        0.17696992, 0.17647876, 0.17724587, 0.17341982, 0.16693245,\n",
       "        0.16944464, 0.16663618, 0.17007332, 0.17363718, 0.17650035,\n",
       "        0.11970625, 0.13381241, 0.13397509, 0.13487664, 0.12183245,\n",
       "        0.1330335 , 0.1333019 , 0.13301009, 0.12440464, 0.1335917 ,\n",
       "        0.13077457, 0.13392612, 0.13203669, 0.13446335, 0.13073637,\n",
       "        0.13370521, 0.13341372, 0.13307695], dtype=float32), 78)"
      ]
     },
     "execution_count": 14,
     "metadata": {},
     "output_type": "execute_result"
    }
   ],
   "source": [
    "param['param_task2.pkl'][1], len(param['param_task2.pkl'][1])"
   ]
  },
  {
   "cell_type": "code",
   "execution_count": 17,
   "metadata": {},
   "outputs": [
    {
     "data": {
      "text/plain": [
       "60"
      ]
     },
     "execution_count": 17,
     "metadata": {},
     "output_type": "execute_result"
    }
   ],
   "source": [
    "len(set(param['param_task0.pkl'][1]).intersection(set(param['param_task2.pkl'][1])))"
   ]
  },
  {
   "cell_type": "code",
   "execution_count": null,
   "metadata": {},
   "outputs": [],
   "source": []
  }
 ],
 "metadata": {
  "kernelspec": {
   "display_name": "Python 3",
   "language": "python",
   "name": "python3"
  },
  "language_info": {
   "codemirror_mode": {
    "name": "ipython",
    "version": 3
   },
   "file_extension": ".py",
   "mimetype": "text/x-python",
   "name": "python",
   "nbconvert_exporter": "python",
   "pygments_lexer": "ipython3",
   "version": "3.6.9"
  }
 },
 "nbformat": 4,
 "nbformat_minor": 2
}
