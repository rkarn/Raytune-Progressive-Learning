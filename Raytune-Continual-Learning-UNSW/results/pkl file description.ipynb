{
 "cells": [
  {
   "cell_type": "code",
   "execution_count": 3,
   "metadata": {},
   "outputs": [],
   "source": [
    "import pickle\n",
    "A = pickle.load(open('RCL_FC_unsw_tasks.pkl_2020-09-30_12:00:44_0.001_10_5_64_critic_0.0001_adam_30_17.401687622070312_policy.pkl','rb'))"
   ]
  },
  {
   "cell_type": "code",
   "execution_count": 4,
   "metadata": {},
   "outputs": [
    {
     "data": {
      "text/plain": [
       "[[0.6548613, 0.6508312, 0.7313884, 0.6552993, 0.7271393],\n",
       " [0.447941, 0.8563007, 0.31252578, 0.32421285, 0.956586],\n",
       " [0.15778075, 0.15793115, 0.15778075, 0.15778075, 0.15778075],\n",
       " [0.89707047, 0.89707047, 0.89707047, 0.89707047, 0.89707047]]"
      ]
     },
     "execution_count": 4,
     "metadata": {},
     "output_type": "execute_result"
    }
   ],
   "source": [
    "#This  is the dump of accuracy in all the epochs of training.\n",
    "A "
   ]
  },
  {
   "cell_type": "code",
   "execution_count": null,
   "metadata": {},
   "outputs": [],
   "source": []
  }
 ],
 "metadata": {
  "kernelspec": {
   "display_name": "Python 3",
   "language": "python",
   "name": "python3"
  },
  "language_info": {
   "codemirror_mode": {
    "name": "ipython",
    "version": 3
   },
   "file_extension": ".py",
   "mimetype": "text/x-python",
   "name": "python",
   "nbconvert_exporter": "python",
   "pygments_lexer": "ipython3",
   "version": "3.6.9"
  }
 },
 "nbformat": 4,
 "nbformat_minor": 2
}
