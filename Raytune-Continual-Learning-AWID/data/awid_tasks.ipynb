{
 "cells": [
  {
   "cell_type": "code",
   "execution_count": 2,
   "metadata": {},
   "outputs": [
    {
     "name": "stdout",
     "output_type": "stream",
     "text": [
      "(51646, 98) (25438, 98) (51646,) (25438,)\n"
     ]
    },
    {
     "name": "stderr",
     "output_type": "stream",
     "text": [
      "Using TensorFlow backend.\n"
     ]
    },
    {
     "name": "stdout",
     "output_type": "stream",
     "text": [
      "Task 0 size: Trainset - (14083, 98), (14083, 17), Testset - (6854, 98), (6854, 17)\n",
      "Task 1 size: Trainset - (2281, 98), (2281, 17), Testset - (1158, 98), (1158, 17)\n",
      "Task 2 size: Trainset - (15035, 98), (15035, 17), Testset - (7363, 98), (7363, 17)\n",
      "Task 3 size: Trainset - (16733, 98), (16733, 17), Testset - (8270, 98), (8270, 17)\n",
      "Task 4 size: Trainset - (3514, 98), (3514, 17), Testset - (1793, 98), (1793, 17)\n"
     ]
    }
   ],
   "source": [
    "import numpy as np\n",
    "import pickle\n",
    "import argparse\n",
    "\n",
    "parser = argparse.ArgumentParser()\n",
    "\n",
    "parser.add_argument('--o', default='./awid_tasks.pkl', help='output file')\n",
    "parser.add_argument('--n_tasks', default=5, type=int, help='number of tasks')\n",
    "parser.add_argument('--seed', default=100, type=int, help='random seed')\n",
    "#args = parser.parse_args()\n",
    "args = parser.parse_args(\"\")\n",
    "np.random.seed(args.seed)\n",
    "\n",
    "f = open(\"AWID.pickle\", \"rb\")\n",
    "X_train = pickle.load(f)\n",
    "X_test = pickle.load(f) \n",
    "Y_train_all_attacks = pickle.load(f) \n",
    "Y_test_all_attacks = pickle.load(f) \n",
    "f.close()\n",
    "\n",
    "print(X_train.shape, X_test.shape, Y_train_all_attacks.shape, Y_test_all_attacks.shape)\n",
    "\n",
    "from keras.utils import np_utils\n",
    "\n",
    "#task_labels = [[0,1], [2,3], [4,5], [6,7], [8,9],[1,5],[7,9],[3,8],[0,6],[4,2]]\n",
    "#task_labels = [[4,2], [0,6], [3,8], [9,7], [1,5],[8,9],[6,7],[5,5],[3,2],[0,1]]\n",
    "#task_labels = [[8,9], [6,7], [4,5], [2,3], [0,1]]\n",
    "#task_labels = [[0,9], [7,8], [3,6], [1,4], [2,5]]\n",
    "task_labels = [[0,1,2], [3,4,5], [6,7,8],[9,10,11,12], [13,14,15,16]]\n",
    "#task_labels = [[0,1], [2,3,1,0],[4,5,1,2], [6,7,3,0],[8,9,4,6]]\n",
    "n_tasks = len(task_labels)\n",
    "nb_classes  = 17\n",
    "training_datasets = []\n",
    "validation_datasets = []\n",
    "multihead=False\n",
    "\n",
    "for labels in task_labels:\n",
    "    idx = np.in1d(Y_train_all_attacks, labels)\n",
    "    if multihead:\n",
    "        label_map = np.arange(nb_classes)\n",
    "        label_map[labels] = np.arange(len(labels))\n",
    "        data = X_train[idx], np_utils.to_categorical(label_map[Y_train_all_attacks[idx]], len(labels))\n",
    "    else:\n",
    "        data = X_train[idx], np_utils.to_categorical(Y_train_all_attacks[idx], nb_classes)\n",
    "        training_datasets.append(data)\n",
    "\n",
    "for labels in task_labels:\n",
    "    idx = np.in1d(Y_test_all_attacks, labels)\n",
    "    if multihead:\n",
    "        label_map = np.arange(nb_classes)\n",
    "        label_map[labels] = np.arange(len(labels))\n",
    "        data = X_test[idx], np_utils.to_categorical(label_map[Y_test_all_attacks[idx]], len(labels))\n",
    "    else:\n",
    "        data = X_test[idx], np_utils.to_categorical(Y_test_all_attacks[idx], nb_classes)\n",
    "        validation_datasets.append(data)\n",
    "        \n",
    "tasks_train={}; labels_train = {}; tasks_test = {}; labels_test = {}\n",
    "\n",
    "for i in range(len(task_labels)):\n",
    "    tasks_train[str(i)] = training_datasets[i][0]\n",
    "    labels_train[str(i)] = training_datasets[i][1]\n",
    "    tasks_test[str(i)] = validation_datasets[i][0]\n",
    "    labels_test[str(i)] = validation_datasets[i][1]\n",
    "    print('Task {0} size: Trainset - {1}, {2}, Testset - {3}, {4}'.format(i,tasks_train[str(i)].shape, labels_train[str(i)].shape, tasks_test[str(i)].shape, labels_test[str(i)].shape))\n",
    "\n",
    "Tasks_dumped = []\n",
    "for i in range(len(task_labels)):\n",
    "    Tasks_dumped.append((tasks_train[str(i)], labels_train[str(i)], tasks_test[str(i)], labels_test[str(i)], tasks_test[str(i)], labels_test[str(i)]))\n",
    "f = open(args.o, \"wb\")\n",
    "pickle.dump(Tasks_dumped, f)\n",
    "f.close()"
   ]
  },
  {
   "cell_type": "code",
   "execution_count": null,
   "metadata": {},
   "outputs": [],
   "source": []
  }
 ],
 "metadata": {
  "kernelspec": {
   "display_name": "Python 3",
   "language": "python",
   "name": "python3"
  },
  "language_info": {
   "codemirror_mode": {
    "name": "ipython",
    "version": 3
   },
   "file_extension": ".py",
   "mimetype": "text/x-python",
   "name": "python",
   "nbconvert_exporter": "python",
   "pygments_lexer": "ipython3",
   "version": "3.6.9"
  }
 },
 "nbformat": 4,
 "nbformat_minor": 4
}
